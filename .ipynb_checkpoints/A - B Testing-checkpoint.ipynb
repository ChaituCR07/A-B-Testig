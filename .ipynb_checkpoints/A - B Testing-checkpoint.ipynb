{
 "cells": [
  {
   "cell_type": "code",
   "execution_count": 1,
   "id": "1ff50c01-db75-4181-bc5c-7a13be6bfd8d",
   "metadata": {},
   "outputs": [],
   "source": [
    "import numpy as np\n",
    "import pandas as pd\n",
    "import matplotlib.pyplot as plt\n",
    "import seaborn as sns\n",
    "%matplotlib inline\n",
    "seed = 72\n",
    "np.random.seed(seed)\n"
   ]
  },
  {
   "cell_type": "code",
   "execution_count": 3,
   "id": "1698fc45-3587-4bb3-a4de-c9ded51cbaca",
   "metadata": {},
   "outputs": [
    {
     "data": {
      "text/html": [
       "<div>\n",
       "<style scoped>\n",
       "    .dataframe tbody tr th:only-of-type {\n",
       "        vertical-align: middle;\n",
       "    }\n",
       "\n",
       "    .dataframe tbody tr th {\n",
       "        vertical-align: top;\n",
       "    }\n",
       "\n",
       "    .dataframe thead th {\n",
       "        text-align: right;\n",
       "    }\n",
       "</style>\n",
       "<table border=\"1\" class=\"dataframe\">\n",
       "  <thead>\n",
       "    <tr style=\"text-align: right;\">\n",
       "      <th></th>\n",
       "      <th>ids</th>\n",
       "    </tr>\n",
       "  </thead>\n",
       "  <tbody>\n",
       "    <tr>\n",
       "      <th>0</th>\n",
       "      <td>0</td>\n",
       "    </tr>\n",
       "    <tr>\n",
       "      <th>1</th>\n",
       "      <td>1</td>\n",
       "    </tr>\n",
       "    <tr>\n",
       "      <th>2</th>\n",
       "      <td>2</td>\n",
       "    </tr>\n",
       "    <tr>\n",
       "      <th>3</th>\n",
       "      <td>3</td>\n",
       "    </tr>\n",
       "    <tr>\n",
       "      <th>4</th>\n",
       "      <td>4</td>\n",
       "    </tr>\n",
       "  </tbody>\n",
       "</table>\n",
       "</div>"
      ],
      "text/plain": [
       "   ids\n",
       "0    0\n",
       "1    1\n",
       "2    2\n",
       "3    3\n",
       "4    4"
      ]
     },
     "execution_count": 3,
     "metadata": {},
     "output_type": "execute_result"
    }
   ],
   "source": [
    "#creating random data\n",
    "n = 10001\n",
    "sim_ids = np.arange(n)\n",
    "sim_df = pd.DataFrame(data=sim_ids,columns=['ids'] )\n",
    "sim_df.head()"
   ]
  },
  {
   "cell_type": "code",
   "execution_count": 4,
   "id": "5a9938c5-eb72-4c41-bf3c-073d0f6454d2",
   "metadata": {},
   "outputs": [
    {
     "data": {
      "text/html": [
       "<div>\n",
       "<style scoped>\n",
       "    .dataframe tbody tr th:only-of-type {\n",
       "        vertical-align: middle;\n",
       "    }\n",
       "\n",
       "    .dataframe tbody tr th {\n",
       "        vertical-align: top;\n",
       "    }\n",
       "\n",
       "    .dataframe thead th {\n",
       "        text-align: right;\n",
       "    }\n",
       "</style>\n",
       "<table border=\"1\" class=\"dataframe\">\n",
       "  <thead>\n",
       "    <tr style=\"text-align: right;\">\n",
       "      <th></th>\n",
       "      <th>ids</th>\n",
       "      <th>var1</th>\n",
       "      <th>var2</th>\n",
       "    </tr>\n",
       "  </thead>\n",
       "  <tbody>\n",
       "    <tr>\n",
       "      <th>0</th>\n",
       "      <td>0</td>\n",
       "      <td>1.592727</td>\n",
       "      <td>6.352617</td>\n",
       "    </tr>\n",
       "    <tr>\n",
       "      <th>1</th>\n",
       "      <td>1</td>\n",
       "      <td>-3.397797</td>\n",
       "      <td>4.150112</td>\n",
       "    </tr>\n",
       "    <tr>\n",
       "      <th>2</th>\n",
       "      <td>2</td>\n",
       "      <td>-11.041942</td>\n",
       "      <td>0.986883</td>\n",
       "    </tr>\n",
       "    <tr>\n",
       "      <th>3</th>\n",
       "      <td>3</td>\n",
       "      <td>2.951201</td>\n",
       "      <td>4.509696</td>\n",
       "    </tr>\n",
       "    <tr>\n",
       "      <th>4</th>\n",
       "      <td>4</td>\n",
       "      <td>8.373830</td>\n",
       "      <td>-0.275511</td>\n",
       "    </tr>\n",
       "  </tbody>\n",
       "</table>\n",
       "</div>"
      ],
      "text/plain": [
       "   ids       var1      var2\n",
       "0    0   1.592727  6.352617\n",
       "1    1  -3.397797  4.150112\n",
       "2    2 -11.041942  0.986883\n",
       "3    3   2.951201  4.509696\n",
       "4    4   8.373830 -0.275511"
      ]
     },
     "execution_count": 4,
     "metadata": {},
     "output_type": "execute_result"
    }
   ],
   "source": [
    "random_var1 = np.random.normal(0, 5, sim_ids.size)\n",
    "random_var2 = np.random.normal(4, 2, sim_ids.size)\n",
    "sim_df['var1'] = pd.Series(random_var1, index=sim_df.index)\n",
    "sim_df['var2'] = pd.Series(random_var2, index=sim_df.index)\n",
    "sim_df.head()\n"
   ]
  },
  {
   "cell_type": "code",
   "execution_count": 6,
   "id": "b257dd02-2a8a-4747-9d72-628b300a4829",
   "metadata": {},
   "outputs": [
    {
     "data": {
      "text/html": [
       "<div>\n",
       "<style scoped>\n",
       "    .dataframe tbody tr th:only-of-type {\n",
       "        vertical-align: middle;\n",
       "    }\n",
       "\n",
       "    .dataframe tbody tr th {\n",
       "        vertical-align: top;\n",
       "    }\n",
       "\n",
       "    .dataframe thead th {\n",
       "        text-align: right;\n",
       "    }\n",
       "</style>\n",
       "<table border=\"1\" class=\"dataframe\">\n",
       "  <thead>\n",
       "    <tr style=\"text-align: right;\">\n",
       "      <th></th>\n",
       "      <th>ids</th>\n",
       "      <th>var1</th>\n",
       "      <th>var2</th>\n",
       "    </tr>\n",
       "  </thead>\n",
       "  <tbody>\n",
       "    <tr>\n",
       "      <th>5519</th>\n",
       "      <td>5519</td>\n",
       "      <td>-0.185303</td>\n",
       "      <td>4.293282</td>\n",
       "    </tr>\n",
       "    <tr>\n",
       "      <th>3376</th>\n",
       "      <td>3376</td>\n",
       "      <td>-5.395099</td>\n",
       "      <td>4.435400</td>\n",
       "    </tr>\n",
       "    <tr>\n",
       "      <th>7084</th>\n",
       "      <td>7084</td>\n",
       "      <td>-3.399034</td>\n",
       "      <td>3.686634</td>\n",
       "    </tr>\n",
       "    <tr>\n",
       "      <th>337</th>\n",
       "      <td>337</td>\n",
       "      <td>10.393630</td>\n",
       "      <td>0.488468</td>\n",
       "    </tr>\n",
       "    <tr>\n",
       "      <th>1460</th>\n",
       "      <td>1460</td>\n",
       "      <td>5.346016</td>\n",
       "      <td>4.145204</td>\n",
       "    </tr>\n",
       "    <tr>\n",
       "      <th>...</th>\n",
       "      <td>...</td>\n",
       "      <td>...</td>\n",
       "      <td>...</td>\n",
       "    </tr>\n",
       "    <tr>\n",
       "      <th>9762</th>\n",
       "      <td>9762</td>\n",
       "      <td>-4.050332</td>\n",
       "      <td>2.861310</td>\n",
       "    </tr>\n",
       "    <tr>\n",
       "      <th>2911</th>\n",
       "      <td>2911</td>\n",
       "      <td>7.416019</td>\n",
       "      <td>6.850282</td>\n",
       "    </tr>\n",
       "    <tr>\n",
       "      <th>7697</th>\n",
       "      <td>7697</td>\n",
       "      <td>-5.898923</td>\n",
       "      <td>9.746999</td>\n",
       "    </tr>\n",
       "    <tr>\n",
       "      <th>3275</th>\n",
       "      <td>3275</td>\n",
       "      <td>-3.238256</td>\n",
       "      <td>2.133766</td>\n",
       "    </tr>\n",
       "    <tr>\n",
       "      <th>5748</th>\n",
       "      <td>5748</td>\n",
       "      <td>0.848853</td>\n",
       "      <td>1.289519</td>\n",
       "    </tr>\n",
       "  </tbody>\n",
       "</table>\n",
       "<p>400 rows × 3 columns</p>\n",
       "</div>"
      ],
      "text/plain": [
       "       ids       var1      var2\n",
       "5519  5519  -0.185303  4.293282\n",
       "3376  3376  -5.395099  4.435400\n",
       "7084  7084  -3.399034  3.686634\n",
       "337    337  10.393630  0.488468\n",
       "1460  1460   5.346016  4.145204\n",
       "...    ...        ...       ...\n",
       "9762  9762  -4.050332  2.861310\n",
       "2911  2911   7.416019  6.850282\n",
       "7697  7697  -5.898923  9.746999\n",
       "3275  3275  -3.238256  2.133766\n",
       "5748  5748   0.848853  1.289519\n",
       "\n",
       "[400 rows x 3 columns]"
      ]
     },
     "execution_count": 6,
     "metadata": {},
     "output_type": "execute_result"
    }
   ],
   "source": [
    "# Getting a random sample from the population\n",
    "n_samples = 400\n",
    "samples_df = sim_df.sample(n_samples, random_state=seed)\n",
    "samples_df"
   ]
  },
  {
   "cell_type": "code",
   "execution_count": 8,
   "id": "c6fb479e-3eff-41af-b539-71f096636c3b",
   "metadata": {},
   "outputs": [
    {
     "data": {
      "text/html": [
       "<div>\n",
       "<style scoped>\n",
       "    .dataframe tbody tr th:only-of-type {\n",
       "        vertical-align: middle;\n",
       "    }\n",
       "\n",
       "    .dataframe tbody tr th {\n",
       "        vertical-align: top;\n",
       "    }\n",
       "\n",
       "    .dataframe thead th {\n",
       "        text-align: right;\n",
       "    }\n",
       "</style>\n",
       "<table border=\"1\" class=\"dataframe\">\n",
       "  <thead>\n",
       "    <tr style=\"text-align: right;\">\n",
       "      <th></th>\n",
       "      <th>ids</th>\n",
       "      <th>var1</th>\n",
       "      <th>var2</th>\n",
       "    </tr>\n",
       "  </thead>\n",
       "  <tbody>\n",
       "    <tr>\n",
       "      <th>count</th>\n",
       "      <td>400.000000</td>\n",
       "      <td>400.000000</td>\n",
       "      <td>400.000000</td>\n",
       "    </tr>\n",
       "    <tr>\n",
       "      <th>mean</th>\n",
       "      <td>4809.572500</td>\n",
       "      <td>0.078816</td>\n",
       "      <td>4.025288</td>\n",
       "    </tr>\n",
       "    <tr>\n",
       "      <th>std</th>\n",
       "      <td>2952.257218</td>\n",
       "      <td>5.160975</td>\n",
       "      <td>2.135192</td>\n",
       "    </tr>\n",
       "    <tr>\n",
       "      <th>min</th>\n",
       "      <td>4.000000</td>\n",
       "      <td>-14.520965</td>\n",
       "      <td>-2.252875</td>\n",
       "    </tr>\n",
       "    <tr>\n",
       "      <th>25%</th>\n",
       "      <td>2079.000000</td>\n",
       "      <td>-3.408441</td>\n",
       "      <td>2.576248</td>\n",
       "    </tr>\n",
       "    <tr>\n",
       "      <th>50%</th>\n",
       "      <td>4545.000000</td>\n",
       "      <td>0.304609</td>\n",
       "      <td>3.954455</td>\n",
       "    </tr>\n",
       "    <tr>\n",
       "      <th>75%</th>\n",
       "      <td>7541.750000</td>\n",
       "      <td>3.579033</td>\n",
       "      <td>5.508419</td>\n",
       "    </tr>\n",
       "    <tr>\n",
       "      <th>max</th>\n",
       "      <td>9962.000000</td>\n",
       "      <td>15.201024</td>\n",
       "      <td>10.264793</td>\n",
       "    </tr>\n",
       "  </tbody>\n",
       "</table>\n",
       "</div>"
      ],
      "text/plain": [
       "               ids        var1        var2\n",
       "count   400.000000  400.000000  400.000000\n",
       "mean   4809.572500    0.078816    4.025288\n",
       "std    2952.257218    5.160975    2.135192\n",
       "min       4.000000  -14.520965   -2.252875\n",
       "25%    2079.000000   -3.408441    2.576248\n",
       "50%    4545.000000    0.304609    3.954455\n",
       "75%    7541.750000    3.579033    5.508419\n",
       "max    9962.000000   15.201024   10.264793"
      ]
     },
     "execution_count": 8,
     "metadata": {},
     "output_type": "execute_result"
    }
   ],
   "source": [
    "samples_df.describe()"
   ]
  },
  {
   "cell_type": "code",
   "execution_count": 9,
   "id": "87f23fef-8edb-4a3e-b4a4-a7190a71de49",
   "metadata": {},
   "outputs": [
    {
     "data": {
      "text/html": [
       "<div>\n",
       "<style scoped>\n",
       "    .dataframe tbody tr th:only-of-type {\n",
       "        vertical-align: middle;\n",
       "    }\n",
       "\n",
       "    .dataframe tbody tr th {\n",
       "        vertical-align: top;\n",
       "    }\n",
       "\n",
       "    .dataframe thead th {\n",
       "        text-align: right;\n",
       "    }\n",
       "</style>\n",
       "<table border=\"1\" class=\"dataframe\">\n",
       "  <thead>\n",
       "    <tr style=\"text-align: right;\">\n",
       "      <th></th>\n",
       "      <th>ids</th>\n",
       "      <th>var1</th>\n",
       "      <th>var2</th>\n",
       "      <th>is_control</th>\n",
       "    </tr>\n",
       "  </thead>\n",
       "  <tbody>\n",
       "    <tr>\n",
       "      <th>count</th>\n",
       "      <td>400.000000</td>\n",
       "      <td>400.000000</td>\n",
       "      <td>400.000000</td>\n",
       "      <td>400.000000</td>\n",
       "    </tr>\n",
       "    <tr>\n",
       "      <th>mean</th>\n",
       "      <td>4809.572500</td>\n",
       "      <td>0.078816</td>\n",
       "      <td>4.025288</td>\n",
       "      <td>0.527500</td>\n",
       "    </tr>\n",
       "    <tr>\n",
       "      <th>std</th>\n",
       "      <td>2952.257218</td>\n",
       "      <td>5.160975</td>\n",
       "      <td>2.135192</td>\n",
       "      <td>0.499868</td>\n",
       "    </tr>\n",
       "    <tr>\n",
       "      <th>min</th>\n",
       "      <td>4.000000</td>\n",
       "      <td>-14.520965</td>\n",
       "      <td>-2.252875</td>\n",
       "      <td>0.000000</td>\n",
       "    </tr>\n",
       "    <tr>\n",
       "      <th>25%</th>\n",
       "      <td>2079.000000</td>\n",
       "      <td>-3.408441</td>\n",
       "      <td>2.576248</td>\n",
       "      <td>0.000000</td>\n",
       "    </tr>\n",
       "    <tr>\n",
       "      <th>50%</th>\n",
       "      <td>4545.000000</td>\n",
       "      <td>0.304609</td>\n",
       "      <td>3.954455</td>\n",
       "      <td>1.000000</td>\n",
       "    </tr>\n",
       "    <tr>\n",
       "      <th>75%</th>\n",
       "      <td>7541.750000</td>\n",
       "      <td>3.579033</td>\n",
       "      <td>5.508419</td>\n",
       "      <td>1.000000</td>\n",
       "    </tr>\n",
       "    <tr>\n",
       "      <th>max</th>\n",
       "      <td>9962.000000</td>\n",
       "      <td>15.201024</td>\n",
       "      <td>10.264793</td>\n",
       "      <td>1.000000</td>\n",
       "    </tr>\n",
       "  </tbody>\n",
       "</table>\n",
       "</div>"
      ],
      "text/plain": [
       "               ids        var1        var2  is_control\n",
       "count   400.000000  400.000000  400.000000  400.000000\n",
       "mean   4809.572500    0.078816    4.025288    0.527500\n",
       "std    2952.257218    5.160975    2.135192    0.499868\n",
       "min       4.000000  -14.520965   -2.252875    0.000000\n",
       "25%    2079.000000   -3.408441    2.576248    0.000000\n",
       "50%    4545.000000    0.304609    3.954455    1.000000\n",
       "75%    7541.750000    3.579033    5.508419    1.000000\n",
       "max    9962.000000   15.201024   10.264793    1.000000"
      ]
     },
     "execution_count": 9,
     "metadata": {},
     "output_type": "execute_result"
    }
   ],
   "source": [
    "is_control = np.random.choice([0,1], size=n_samples)\n",
    "samples_df = samples_df.assign(is_control=is_control)\n",
    "samples_df.describe()\n"
   ]
  },
  {
   "cell_type": "code",
   "execution_count": 10,
   "id": "8b577052-e070-482a-a683-75ece314bd0e",
   "metadata": {},
   "outputs": [
    {
     "name": "stderr",
     "output_type": "stream",
     "text": [
      "/Users/chaitanyamedam/anaconda3/lib/python3.11/site-packages/seaborn/_oldcore.py:1119: FutureWarning: use_inf_as_na option is deprecated and will be removed in a future version. Convert inf values to NaN before operating instead.\n",
      "  with pd.option_context('mode.use_inf_as_na', True):\n",
      "/Users/chaitanyamedam/anaconda3/lib/python3.11/site-packages/seaborn/_oldcore.py:1119: FutureWarning: use_inf_as_na option is deprecated and will be removed in a future version. Convert inf values to NaN before operating instead.\n",
      "  with pd.option_context('mode.use_inf_as_na', True):\n"
     ]
    },
    {
     "data": {
      "text/plain": [
       "<Axes: xlabel='var1', ylabel='Density'>"
      ]
     },
     "execution_count": 10,
     "metadata": {},
     "output_type": "execute_result"
    },
    {
     "data": {
      "image/png": "[encoded data removed]",
      "text/plain": [
       "<Figure size 640x480 with 1 Axes>"
      ]
     },
     "metadata": {},
     "output_type": "display_data"
    }
   ],
   "source": [
    "sns.kdeplot(samples_df[samples_df.is_control == 0].var1)\n",
    "sns.kdeplot(samples_df[samples_df.is_control == 1].var1)"
   ]
  },
  {
   "cell_type": "code",
   "execution_count": 11,
   "id": "ff5147e1-b29b-4946-a3ee-b1228114563b",
   "metadata": {},
   "outputs": [
    {
     "name": "stderr",
     "output_type": "stream",
     "text": [
      "/Users/chaitanyamedam/anaconda3/lib/python3.11/site-packages/seaborn/_oldcore.py:1119: FutureWarning: use_inf_as_na option is deprecated and will be removed in a future version. Convert inf values to NaN before operating instead.\n",
      "  with pd.option_context('mode.use_inf_as_na', True):\n",
      "/Users/chaitanyamedam/anaconda3/lib/python3.11/site-packages/seaborn/_oldcore.py:1119: FutureWarning: use_inf_as_na option is deprecated and will be removed in a future version. Convert inf values to NaN before operating instead.\n",
      "  with pd.option_context('mode.use_inf_as_na', True):\n"
     ]
    },
    {
     "data": {
      "text/plain": [
       "<Axes: xlabel='var2', ylabel='Density'>"
      ]
     },
     "execution_count": 11,
     "metadata": {},
     "output_type": "execute_result"
    },
    {
     "data": {
      "image/png": "[encoded data removed]",
      "text/plain": [
       "<Figure size 640x480 with 1 Axes>"
      ]
     },
     "metadata": {},
     "output_type": "display_data"
    }
   ],
   "source": [
    "sns.kdeplot(samples_df[samples_df.is_control == 0].var2)\n",
    "sns.kdeplot(samples_df[samples_df.is_control == 1].var2)"
   ]
  },
  {
   "cell_type": "code",
   "execution_count": 12,
   "id": "9938090f-42d5-4a21-8e72-c8f60894f0df",
   "metadata": {},
   "outputs": [
    {
     "name": "stderr",
     "output_type": "stream",
     "text": [
      "/Users/chaitanyamedam/anaconda3/lib/python3.11/site-packages/seaborn/_oldcore.py:1119: FutureWarning: use_inf_as_na option is deprecated and will be removed in a future version. Convert inf values to NaN before operating instead.\n",
      "  with pd.option_context('mode.use_inf_as_na', True):\n",
      "/Users/chaitanyamedam/anaconda3/lib/python3.11/site-packages/seaborn/_oldcore.py:1119: FutureWarning: use_inf_as_na option is deprecated and will be removed in a future version. Convert inf values to NaN before operating instead.\n",
      "  with pd.option_context('mode.use_inf_as_na', True):\n"
     ]
    },
    {
     "data": {
      "text/plain": [
       "<Axes: xlabel='var1', ylabel='Density'>"
      ]
     },
     "execution_count": 12,
     "metadata": {},
     "output_type": "execute_result"
    },
    {
     "data": {
      "image/png": "[encoded data removed]",
      "text/plain": [
       "<Figure size 640x480 with 1 Axes>"
      ]
     },
     "metadata": {},
     "output_type": "display_data"
    }
   ],
   "source": [
    "sns.kdeplot(samples_df.var1)\n",
    "sns.kdeplot(samples_df.var2)"
   ]
  },
  {
   "cell_type": "code",
   "execution_count": 14,
   "id": "4fa54fab-5746-4ea7-a87f-d36a4262b0e0",
   "metadata": {},
   "outputs": [],
   "source": [
    "from scipy import stats"
   ]
  },
  {
   "cell_type": "code",
   "execution_count": 15,
   "id": "b0279b0c-3316-4e63-8ca7-8ba1b8cee466",
   "metadata": {},
   "outputs": [],
   "source": [
    "#Hypothesis testing\n",
    "def is_significant(group1, group2, alpha=0.05):    \n",
    "    t,p = stats.ttest_ind(group1,group2,equal_var=False)\n",
    "    return p<alpha, p\n",
    "def experiment_vs_control(df, var_name, alpha=0.05):\n",
    "    #\n",
    "    experiment = df[df.is_control == 0][var_name]\n",
    "    control = df[df.is_control == 1][var_name]\n",
    "    # \n",
    "    return is_significant(experiment, control, alpha)"
   ]
  },
  {
   "cell_type": "code",
   "execution_count": 16,
   "id": "d05873cd-c0fd-4bd0-a693-982e2719e848",
   "metadata": {},
   "outputs": [
    {
     "data": {
      "text/plain": [
       "(False, 0.2617697293720865)"
      ]
     },
     "execution_count": 16,
     "metadata": {},
     "output_type": "execute_result"
    }
   ],
   "source": [
    "experiment_vs_control(samples_df, 'var2')"
   ]
  },
  {
   "cell_type": "code",
   "execution_count": 17,
   "id": "6014fc72-243b-48ed-ba47-91d8a12e0613",
   "metadata": {},
   "outputs": [
    {
     "data": {
      "text/plain": [
       "(True, 1.0003249379634684e-38)"
      ]
     },
     "execution_count": 17,
     "metadata": {},
     "output_type": "execute_result"
    }
   ],
   "source": [
    "is_significant(samples_df.var1,samples_df.var2)"
   ]
  },
  {
   "cell_type": "code",
   "execution_count": null,
   "id": "bbb8d6f2-d266-49c8-868d-9195cb41ae02",
   "metadata": {},
   "outputs": [],
   "source": []
  }
 ],
 "metadata": {
  "kernelspec": {
   "display_name": "Python 3 (ipykernel)",
   "language": "python",
   "name": "python3"
  },
  "language_info": {
   "codemirror_mode": {
    "name": "ipython",
    "version": 3
   },
   "file_extension": ".py",
   "mimetype": "text/x-python",
   "name": "python",
   "nbconvert_exporter": "python",
   "pygments_lexer": "ipython3",
   "version": "3.11.5"
  }
 },
 "nbformat": 4,
 "nbformat_minor": 5
}
